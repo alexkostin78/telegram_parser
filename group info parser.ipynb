{
 "cells": [
  {
   "cell_type": "markdown",
   "metadata": {},
   "source": [
    "### Парсер информации из телеграмм группы."
   ]
  },
  {
   "cell_type": "code",
   "execution_count": 7,
   "metadata": {},
   "outputs": [],
   "source": [
    "from telethon import TelegramClient, events\n",
    "from telethon.tl.types import InputMessagesFilterDocument, InputMessagesFilterPhotos, InputMessagesFilterVideo, InputMessagesFilterGif, InputMessagesFilterPhotoVideo\n",
    "from datetime import datetime, timedelta\n",
    "import os\n",
    "import sys\n",
    "from datetime import datetime\n",
    "\n",
    "import asyncio\n",
    "import nest_asyncio"
   ]
  },
  {
   "cell_type": "markdown",
   "metadata": {},
   "source": [
    "#### Константы"
   ]
  },
  {
   "cell_type": "code",
   "execution_count": 8,
   "metadata": {},
   "outputs": [],
   "source": [
    "# Данные телеграмм аккаунта\n",
    "API_ID = '11111111111'\n",
    "API_HASH = '7777777777777777777777777777'\n",
    "PHONE_NUMBER = '79221234567'\n",
    "\n",
    "GROUP_ID = \"-10000000000000\"\n",
    "\n",
    "# END_DATE = datetime(2023, 11, 8)  # Укажите дату, ДО которой загружать файлы\n",
    "END_DATE = datetime.now()  # До сегодняшней даты\n",
    "START_DATE = END_DATE - timedelta(days=7) # None, если скачивать все до указанной даты\n",
    "FILES_LIMIT = 10 # None - для скачивания всей истории. Лимит одинаков для всех видов файлов. \n",
    "MIN_MESSAGE_LEN = 50  # Минимальная длина сообщения, при которой осуществляется загрузка сообщения\n",
    "\n",
    "DEL_SESSION = False\n",
    "\n",
    "EXPORT_PATH = \"/media/user/Disk_F/tmp_data/04_parcer\""
   ]
  },
  {
   "cell_type": "markdown",
   "metadata": {},
   "source": [
    "> Ошибка: Блокировка БД: => Перезапустить VSCode!!!"
   ]
  },
  {
   "cell_type": "code",
   "execution_count": 9,
   "metadata": {},
   "outputs": [],
   "source": [
    "# Запуск клиента\n",
    "client = TelegramClient('session_name', API_ID, API_HASH)"
   ]
  },
  {
   "cell_type": "markdown",
   "metadata": {},
   "source": [
    "#### Функции\n",
    "> https://docs-python.ru/packages/telegram-klient-telethon-python/metody-obekta-telegramclient/#TelegramClient.get_messages <br>\n",
    "https://docs.telethon.dev/en/stable/modules/client.html <br>\n",
    "https://tl.telethon.dev/types/messages_filter.html"
   ]
  },
  {
   "cell_type": "code",
   "execution_count": 10,
   "metadata": {},
   "outputs": [],
   "source": [
    "# Функция сохранения текста в файл\n",
    "def write_txt(input_file, text):\n",
    "    with open(input_file, 'w', encoding='utf-8') as f:\n",
    "        f.write(text)\n",
    "\n",
    "# Функция добавления даты к имени файла\n",
    "def name_with_date(full_old_name:str, message_date:datetime):\n",
    "    fname, ext = os.path.splitext(os.path.basename(full_old_name))\n",
    "    file_date = message_date.strftime('%Y-%m-%d')\n",
    "    new_file_name = f\"{file_date}_{fname}{ext}\"\n",
    "    full_new_file_name = os.path.join(EXPORT_PATH, new_file_name)\n",
    "    return full_new_file_name\n",
    "    \n",
    "\n",
    "#  Функция для загрузки файлов:\n",
    "async def download_files(chat_id, start_date, end_date):    \n",
    "    # Создание директории для сохранения файлов\n",
    "    if not os.path.exists(EXPORT_PATH):\n",
    "        os.makedirs(EXPORT_PATH)\n",
    "\n",
    "    # Подключение к Telegram\n",
    "    await client.start(PHONE_NUMBER)\n",
    "\n",
    "    # Получение указанных типов документов из сообщений с указанного момента времени \n",
    "    # InputMessagesFilterDocument, InputMessagesFilterPhotos, InputMessagesFilterVideo, InputMessagesFilterGif, InputMessagesFilterPhotoVideo    \n",
    "    filters = [InputMessagesFilterDocument, InputMessagesFilterPhotos, InputMessagesFilterVideo, InputMessagesFilterGif]   \n",
    "    for filter in filters:\n",
    "        messages = await client.get_messages(chat_id, limit=FILES_LIMIT, offset_date=end_date, filter=filter)\n",
    "        # Вывод шапки:\n",
    "        if filter == InputMessagesFilterDocument:\n",
    "            print(\"Документы:\")\n",
    "        elif filter == InputMessagesFilterPhotos:\n",
    "            print(\"Фото:\")\n",
    "        elif filter == InputMessagesFilterVideo:\n",
    "            print(\"Видео:\")\n",
    "        elif filter == InputMessagesFilterGif:\n",
    "            print(\"GIF:\") \n",
    "        \n",
    "        # Загрузка медиа файлов\n",
    "        for message in messages:\n",
    "            if message.media:\n",
    "                if start_date is None:\n",
    "                    file_path = await client.download_media(message.media, EXPORT_PATH)\n",
    "                    new_file_name = name_with_date(file_path, message.date)\n",
    "                    print(f'Загружено: {new_file_name}')\n",
    "                else:\n",
    "                    if datetime.astimezone(message.date) >= datetime.astimezone(start_date):                                        \n",
    "                        file_path = await client.download_media(message.media, EXPORT_PATH)\n",
    "                        new_file_name = name_with_date(file_path, message.date)\n",
    "                        print(f'Загружено: {new_file_name}')\n",
    "            \n",
    "\n",
    "    # Получаем текстовые сообщения\n",
    "    print(\"Текстовые сообщения:\")\n",
    "    messages = await client.get_messages(chat_id, limit=FILES_LIMIT, offset_date=end_date)\n",
    "    # Загрузка файлов\n",
    "    for message in messages:\n",
    "        if message.text:\n",
    "            texts = message.text\n",
    "            if len(texts) > MIN_MESSAGE_LEN:\n",
    "                if start_date is None:      \n",
    "                    new_file_name = name_with_date(f\"{message.id}.txt\", message.date)\n",
    "                    write_txt(new_file_name, texts)\n",
    "                    print(f'Загружено: {new_file_name}')\n",
    "                    \n",
    "                else:\n",
    "                    if datetime.astimezone(message.date) >= datetime.astimezone(start_date):                                        \n",
    "                        new_file_name = name_with_date(f\"{message.id}.txt\", message.date)\n",
    "                        write_txt(new_file_name, texts)\n",
    "                        print(f'Загружено: {new_file_name}')\n",
    "\n",
    "    # Отключение клиента\n",
    "    await client.disconnect()\n",
    "\n"
   ]
  },
  {
   "cell_type": "markdown",
   "metadata": {},
   "source": [
    "#### Main"
   ]
  },
  {
   "cell_type": "code",
   "execution_count": 11,
   "metadata": {},
   "outputs": [
    {
     "name": "stdout",
     "output_type": "stream",
     "text": [
      "Текстовые сообщения:\n",
      "[+] Готово!\n"
     ]
    }
   ],
   "source": [
    "# Запуск кода в Jupyter Notebook\n",
    "nest_asyncio.apply()\n",
    "\n",
    "# Запуск функции\n",
    "asyncio.run(download_files(int(GROUP_ID), START_DATE, END_DATE))\n",
    "\n",
    "print(\"[+] Готово!\")"
   ]
  }
 ],
 "metadata": {
  "kernelspec": {
   "display_name": "Python 3 (ipykernel)",
   "language": "python",
   "name": "python3"
  },
  "language_info": {
   "codemirror_mode": {
    "name": "ipython",
    "version": 3
   },
   "file_extension": ".py",
   "mimetype": "text/x-python",
   "name": "python",
   "nbconvert_exporter": "python",
   "pygments_lexer": "ipython3",
   "version": "3.9.16"
  }
 },
 "nbformat": 4,
 "nbformat_minor": 4
}
