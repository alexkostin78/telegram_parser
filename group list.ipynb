{
 "cells": [
  {
   "cell_type": "markdown",
   "metadata": {},
   "source": [
    "### Список доступных групп"
   ]
  },
  {
   "cell_type": "code",
   "execution_count": 6,
   "metadata": {},
   "outputs": [],
   "source": [
    "from telethon import TelegramClient\n",
    "import asyncio\n",
    "import nest_asyncio"
   ]
  },
  {
   "cell_type": "markdown",
   "metadata": {},
   "source": [
    "#### Константы"
   ]
  },
  {
   "cell_type": "code",
   "execution_count": 7,
   "metadata": {},
   "outputs": [],
   "source": [
    "# Укажите свои данные\n",
    "API_ID = '1111111111'\n",
    "API_HASH = '77777777777777777777'\n",
    "PHONE_NUMBER = '79221234567'"
   ]
  },
  {
   "cell_type": "code",
   "execution_count": 8,
   "metadata": {},
   "outputs": [],
   "source": [
    "client = TelegramClient('session_name', API_ID, API_HASH)"
   ]
  },
  {
   "cell_type": "markdown",
   "metadata": {},
   "source": [
    "#### Функции"
   ]
  },
  {
   "cell_type": "code",
   "execution_count": 9,
   "metadata": {},
   "outputs": [],
   "source": [
    "# Функция получения списка доступных групп:\n",
    "\n",
    "async def get_available_groups():\n",
    "    # Подключение к Telegram\n",
    "    await client.start(PHONE_NUMBER)\n",
    "\n",
    "    # Получение списка диалогов\n",
    "    dialogs = await client.get_dialogs()\n",
    "\n",
    "    # Фильтрация групп (и каналов)    \n",
    "    groups = [(dialog.name, dialog.id) for dialog in dialogs if dialog.is_group or dialog.is_channel]\n",
    "\n",
    "    # Отключение клиента\n",
    "    await client.disconnect()\n",
    "\n",
    "    return groups"
   ]
  },
  {
   "cell_type": "markdown",
   "metadata": {},
   "source": [
    "#### Main"
   ]
  },
  {
   "cell_type": "code",
   "execution_count": 10,
   "metadata": {},
   "outputs": [
    {
     "name": "stdout",
     "output_type": "stream",
     "text": [
      "Доступные группы:\n",
      "Имя: ааааааааааа, ID: -100000000000\n"
     ]
    }
   ],
   "source": [
    "# Запуск функции\n",
    "nest_asyncio.apply()\n",
    "\n",
    "groups = asyncio.run(get_available_groups())\n",
    "print(\"Доступные группы:\")  #  и каналы\n",
    "for name, group_id in groups:\n",
    "    print(f\"Имя: {name}, ID: {group_id}\")"
   ]
  }
 ],
 "metadata": {
  "kernelspec": {
   "display_name": "ml_telegram",
   "language": "python",
   "name": "python3"
  },
  "language_info": {
   "codemirror_mode": {
    "name": "ipython",
    "version": 3
   },
   "file_extension": ".py",
   "mimetype": "text/x-python",
   "name": "python",
   "nbconvert_exporter": "python",
   "pygments_lexer": "ipython3",
   "version": "3.10.12"
  }
 },
 "nbformat": 4,
 "nbformat_minor": 2
}
